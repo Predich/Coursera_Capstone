{
    "nbformat_minor": 1, 
    "cells": [
        {
            "source": "## Simplifying your house hunting in London\n### Introduction and Business Problem", 
            "cell_type": "markdown", 
            "metadata": {
                "collapsed": true
            }
        }, 
        {
            "source": "House hunting in London is one of the most stressful things you can do in the UK.\nWhere you live in London will have a huge impact on the amount of money you need to spend on purchasing or renting a property. For instance, properties in the most prestigious addresses, such as central London, Kensington, Chelsea or the Docklands can\u2019t be found for much less than six figures (purchase price). However, if you move to some of the outer areas of London, then property prices become much more affordable.\nWherever you choose to live in London you\u2019ll be well serviced by the excellent public transport system. The underground train system, known as \u2018The Tube\u2019 covers the whole of the city. And although it can get crowded during the rush to and from work in morning and evening, in general it\u2019s pleasant, safe and efficient to use.\nThis means that it\u2019s perfectly feasible to choose to live in the outer reaches of London \u2013 even in the open spaces of leafy suburbs such as Richmond, Kew, Blackheath or Harrow \u2013 and still be able to commute into central London easily and quickly.\n\nWebsites like Zoopla and Rightmove help you out searching your house but narrowing down the area to look for is a manual task and they don't show the attractions nearby or the neighborhood distinct areas.\nTo search for the house according to your preferences about the neighborhood, you'll need to browse the internet and find informations by yourself. It is a consuming and tiring process.\n\nTo help with this process, this project was made to people who are searching for a new house to identify or narrow down the search for the house according to the preferences about the neighborhood. The focus is to provide relevant and quality information to be used for a decision when choosing the best residence to live in.\n\n*The project works specifically with the Lewisham council in London to simplify and give the overview of the project. The full coverage of London can be applied in a future project.*", 
            "cell_type": "markdown", 
            "metadata": {}
        }
    ], 
    "metadata": {
        "kernelspec": {
            "display_name": "Python 3.5", 
            "name": "python3", 
            "language": "python"
        }, 
        "language_info": {
            "mimetype": "text/x-python", 
            "nbconvert_exporter": "python", 
            "version": "3.5.5", 
            "name": "python", 
            "file_extension": ".py", 
            "pygments_lexer": "ipython3", 
            "codemirror_mode": {
                "version": 3, 
                "name": "ipython"
            }
        }
    }, 
    "nbformat": 4
}